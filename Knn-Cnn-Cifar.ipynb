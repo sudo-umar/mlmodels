{
 "cells": [
  {
   "cell_type": "code",
   "execution_count": 2,
   "id": "b9249a20",
   "metadata": {},
   "outputs": [],
   "source": [
    "import numpy as np\n",
    "import matplotlib.pyplot as plt\n",
    "import pickle\n",
    "import torch\n",
    "from sklearn.neighbors import KNeighborsClassifier\n",
    "%matplotlib inline"
   ]
  },
  {
   "cell_type": "code",
   "execution_count": 3,
   "id": "51820302",
   "metadata": {},
   "outputs": [],
   "source": [
    "def unpickle(file):\n",
    "    import pickle\n",
    "    with open(file, 'rb') as fo:\n",
    "        dict = pickle.load(fo, encoding='bytes')\n",
    "    return dict"
   ]
  },
  {
   "cell_type": "code",
   "execution_count": 9,
   "id": "187de713",
   "metadata": {},
   "outputs": [],
   "source": [
    "path = '../cifar-10-python/cifar-10-batches-py/data_batch_1'\n",
    "dict1 = unpickle(path)"
   ]
  },
  {
   "cell_type": "code",
   "execution_count": null,
   "id": "db746b06",
   "metadata": {},
   "outputs": [
    {
     "data": {
      "text/plain": [
       "dict_keys([b'batch_label', b'labels', b'data', b'filenames'])"
      ]
     },
     "execution_count": 142,
     "metadata": {},
     "output_type": "execute_result"
    }
   ],
   "source": [
    "dict1.keys()"
   ]
  },
  {
   "cell_type": "code",
   "execution_count": 10,
   "id": "d6ca82f1",
   "metadata": {},
   "outputs": [],
   "source": [
    "X_train = np.asarray(dict1[b'data'])"
   ]
  },
  {
   "cell_type": "code",
   "execution_count": 144,
   "id": "fd8b0ea2",
   "metadata": {},
   "outputs": [
    {
     "data": {
      "text/plain": [
       "array([[ 59,  43,  50, ..., 140,  84,  72]], dtype=uint8)"
      ]
     },
     "execution_count": 144,
     "metadata": {},
     "output_type": "execute_result"
    }
   ],
   "source": [
    "X_train[:1,]"
   ]
  },
  {
   "cell_type": "code",
   "execution_count": 145,
   "id": "29e94dd1",
   "metadata": {},
   "outputs": [
    {
     "data": {
      "text/plain": [
       "(10000, 3072)"
      ]
     },
     "execution_count": 145,
     "metadata": {},
     "output_type": "execute_result"
    }
   ],
   "source": [
    "X_train.shape"
   ]
  },
  {
   "cell_type": "code",
   "execution_count": 11,
   "id": "a69feb57",
   "metadata": {},
   "outputs": [],
   "source": [
    "y_train = np.asarray(dict1[b'labels'])\n",
    "\n",
    "y_train = y_train[:,np.newaxis]\n"
   ]
  },
  {
   "cell_type": "code",
   "execution_count": 13,
   "id": "ba1ea214",
   "metadata": {},
   "outputs": [],
   "source": [
    "path1 = '../cifar-10-python/cifar-10-batches-py/test_batch'\n",
    "test_dict = unpickle(path1)\n",
    "X_test = np.asarray(test_dict[b'data'])\n",
    "y_test = np.asarray(test_dict[b'labels'])\n",
    "y_test = y_test[:,np.newaxis]\n",
    "X_test = X_test/255.0"
   ]
  },
  {
   "cell_type": "code",
   "execution_count": 16,
   "id": "09137756",
   "metadata": {},
   "outputs": [],
   "source": [
    "names = ['data_batch_2','data_batch_3','data_batch_4','data_batch_5']\n",
    "for i in names:\n",
    "    path = '../cifar-10-python/cifar-10-batches-py/'+i\n",
    "    data_dict = unpickle(path)\n",
    "    x = np.asarray(data_dict[b'data'])\n",
    "    y = np.asarray(data_dict[b'labels'])\n",
    "    y = y[:,np.newaxis]\n",
    "    X_train = np.vstack((X_train,x))\n",
    "    y_train = np.vstack((y_train,y))"
   ]
  },
  {
   "cell_type": "code",
   "execution_count": 17,
   "id": "6e3ccc6b",
   "metadata": {},
   "outputs": [],
   "source": [
    "X_train = X_train/255.0"
   ]
  },
  {
   "cell_type": "code",
   "execution_count": 18,
   "id": "28d5bdd6",
   "metadata": {},
   "outputs": [
    {
     "data": {
      "text/plain": [
       "(50000, 1)"
      ]
     },
     "execution_count": 18,
     "metadata": {},
     "output_type": "execute_result"
    }
   ],
   "source": [
    "y_train.shape"
   ]
  },
  {
   "cell_type": "markdown",
   "id": "2e72f271",
   "metadata": {},
   "source": [
    "## KNN"
   ]
  },
  {
   "cell_type": "code",
   "execution_count": 54,
   "id": "d436ec3a",
   "metadata": {},
   "outputs": [
    {
     "name": "stderr",
     "output_type": "stream",
     "text": [
      "/home/umar/anaconda3/lib/python3.9/site-packages/sklearn/neighbors/_classification.py:198: DataConversionWarning: A column-vector y was passed when a 1d array was expected. Please change the shape of y to (n_samples,), for example using ravel().\n",
      "  return self._fit(X, y)\n"
     ]
    },
    {
     "data": {
      "text/plain": [
       "KNeighborsClassifier(n_neighbors=3)"
      ]
     },
     "execution_count": 54,
     "metadata": {},
     "output_type": "execute_result"
    }
   ],
   "source": [
    "model = KNeighborsClassifier(n_neighbors=3)\n",
    "model.fit(X_train,y_train)"
   ]
  },
  {
   "cell_type": "code",
   "execution_count": 13,
   "id": "a5ddc58f",
   "metadata": {},
   "outputs": [],
   "source": [
    "a = model.predict(X_train[:10,])"
   ]
  },
  {
   "cell_type": "code",
   "execution_count": 14,
   "id": "3c70d066",
   "metadata": {},
   "outputs": [],
   "source": [
    "b = y_train[:10]"
   ]
  },
  {
   "cell_type": "code",
   "execution_count": 15,
   "id": "98c8c355",
   "metadata": {},
   "outputs": [
    {
     "data": {
      "text/plain": [
       "(10, 1)"
      ]
     },
     "execution_count": 15,
     "metadata": {},
     "output_type": "execute_result"
    }
   ],
   "source": [
    "a = a[:,np.newaxis]\n",
    "a.shape"
   ]
  },
  {
   "cell_type": "code",
   "execution_count": 16,
   "id": "2499fa29",
   "metadata": {},
   "outputs": [
    {
     "data": {
      "text/plain": [
       "(10, 1)"
      ]
     },
     "execution_count": 16,
     "metadata": {},
     "output_type": "execute_result"
    }
   ],
   "source": [
    "b.shape"
   ]
  },
  {
   "cell_type": "code",
   "execution_count": 17,
   "id": "dbd450b6",
   "metadata": {},
   "outputs": [
    {
     "name": "stdout",
     "output_type": "stream",
     "text": [
      "This is not the actual way to get accuracy but it just to visualize things.\n",
      " Out of first ten predictions 4 are correct \n",
      " [[False]\n",
      " [False]\n",
      " [ True]\n",
      " [False]\n",
      " [False]\n",
      " [ True]\n",
      " [ True]\n",
      " [ True]\n",
      " [ True]\n",
      " [False]]\n"
     ]
    }
   ],
   "source": [
    "print('This is not the actual way to get accuracy but it just to visualize things.\\n Out of first ten predictions 4 are correct \\n',a==b)"
   ]
  },
  {
   "cell_type": "code",
   "execution_count": 21,
   "id": "a32ae434",
   "metadata": {},
   "outputs": [],
   "source": [
    "from sklearn.metrics import accuracy_score\n",
    "y_pred = model.predict(X_test)"
   ]
  },
  {
   "cell_type": "code",
   "execution_count": 23,
   "id": "504f4535",
   "metadata": {},
   "outputs": [],
   "source": [
    "y_pred = y_pred[:,np.newaxis]"
   ]
  },
  {
   "cell_type": "code",
   "execution_count": 25,
   "id": "31309bf1",
   "metadata": {},
   "outputs": [
    {
     "data": {
      "text/plain": [
       "33.03"
      ]
     },
     "execution_count": 25,
     "metadata": {},
     "output_type": "execute_result"
    }
   ],
   "source": [
    "accuracy_score(y_pred,y_test)*100"
   ]
  },
  {
   "cell_type": "markdown",
   "id": "0b85fa30",
   "metadata": {},
   "source": [
    "## The 33 percent accuracy of Knn is not good but still better than 10 percent of picking randomly from 10 classes"
   ]
  },
  {
   "cell_type": "markdown",
   "id": "70b4cfa5",
   "metadata": {},
   "source": [
    "## Neural Network\n"
   ]
  },
  {
   "cell_type": "code",
   "execution_count": 5,
   "id": "8d2cb7c6",
   "metadata": {},
   "outputs": [],
   "source": [
    "class TinyModel(torch.nn.Module):\n",
    "    def __init__(self):\n",
    "        super(TinyModel,self).__init__()\n",
    "        self.linear1 = torch.nn.Linear(3072,176)\n",
    "        self.activation = torch.nn.ReLU()\n",
    "        self.linear2 = torch.nn.Linear(176,10)\n",
    "        self.softmax = torch.nn.Softmax()\n",
    "    def forward(self,x):\n",
    "        x = self.activation(self.linear1(x))\n",
    "        x = self.softmax(self.linear2(x))\n",
    "        return x\n",
    "    \n",
    "model = TinyModel()\n",
    "        \n",
    "        "
   ]
  },
  {
   "cell_type": "code",
   "execution_count": 6,
   "id": "fd5f5bd9",
   "metadata": {},
   "outputs": [],
   "source": [
    "optimiser = torch.optim.SGD(model.parameters(),lr=0.001)\n",
    "loss = torch.nn.CrossEntropyLoss()"
   ]
  },
  {
   "cell_type": "code",
   "execution_count": 8,
   "id": "6a72cc7b",
   "metadata": {},
   "outputs": [
    {
     "ename": "NameError",
     "evalue": "name 'X_train' is not defined",
     "output_type": "error",
     "traceback": [
      "\u001b[0;31m---------------------------------------------------------------------------\u001b[0m",
      "\u001b[0;31mNameError\u001b[0m                                 Traceback (most recent call last)",
      "\u001b[1;32m/home/umar/Documents/coding/models/knnCifar.ipynb Cell 27'\u001b[0m in \u001b[0;36m<cell line: 1>\u001b[0;34m()\u001b[0m\n\u001b[0;32m----> <a href='vscode-notebook-cell:/home/umar/Documents/coding/models/knnCifar.ipynb#ch0000026?line=0'>1</a>\u001b[0m x \u001b[39m=\u001b[39m torch\u001b[39m.\u001b[39mtensor(X_train\u001b[39m.\u001b[39mastype(np\u001b[39m.\u001b[39mfloat32))\n\u001b[1;32m      <a href='vscode-notebook-cell:/home/umar/Documents/coding/models/knnCifar.ipynb#ch0000026?line=1'>2</a>\u001b[0m y \u001b[39m=\u001b[39m torch\u001b[39m.\u001b[39mtensor(y_train\u001b[39m.\u001b[39mastype(np\u001b[39m.\u001b[39mfloat32))\n",
      "\u001b[0;31mNameError\u001b[0m: name 'X_train' is not defined"
     ]
    }
   ],
   "source": [
    "x = torch.tensor(X_train.astype(np.float32))\n",
    "y = torch.tensor(y_train.astype(np.float32))"
   ]
  },
  {
   "cell_type": "code",
   "execution_count": 58,
   "id": "1b523a15",
   "metadata": {},
   "outputs": [],
   "source": [
    "y=np.squeeze(y, axis=1)\n",
    "y=y.type(torch.LongTensor)"
   ]
  },
  {
   "cell_type": "code",
   "execution_count": 59,
   "id": "75cd90b5",
   "metadata": {},
   "outputs": [
    {
     "name": "stdout",
     "output_type": "stream",
     "text": [
      "torch.Size([50000, 3072]) torch.Size([50000])\n"
     ]
    }
   ],
   "source": [
    "print(x.size(),y.size())"
   ]
  },
  {
   "cell_type": "code",
   "execution_count": 60,
   "id": "8c1fe5d1",
   "metadata": {},
   "outputs": [
    {
     "name": "stderr",
     "output_type": "stream",
     "text": [
      "/tmp/ipykernel_669240/2891697456.py:10: UserWarning: Implicit dimension choice for softmax has been deprecated. Change the call to include dim=X as an argument.\n",
      "  x = self.softmax(self.linear2(x))\n"
     ]
    }
   ],
   "source": [
    "#training loop\n",
    "epoch = 500\n",
    "for i in range(epoch):\n",
    "    #logits\n",
    "    l = model(x)\n",
    "    #cost function\n",
    "    J = loss(l,y)\n",
    "    # set grad to zero\n",
    "    optimiser.zero_grad()\n",
    "    # back propogate\n",
    "    J.backward()\n",
    "    optimiser.step()"
   ]
  },
  {
   "cell_type": "code",
   "execution_count": 63,
   "id": "2d0cfc9b",
   "metadata": {},
   "outputs": [
    {
     "data": {
      "text/plain": [
       "torch.Size([50000, 3072])"
      ]
     },
     "execution_count": 63,
     "metadata": {},
     "output_type": "execute_result"
    }
   ],
   "source": [
    "x.size()"
   ]
  },
  {
   "cell_type": "code",
   "execution_count": 66,
   "id": "3487268a",
   "metadata": {},
   "outputs": [
    {
     "name": "stderr",
     "output_type": "stream",
     "text": [
      "/tmp/ipykernel_669240/2891697456.py:10: UserWarning: Implicit dimension choice for softmax has been deprecated. Change the call to include dim=X as an argument.\n",
      "  x = self.softmax(self.linear2(x))\n"
     ]
    },
    {
     "data": {
      "text/plain": [
       "torch.Size([10000, 10])"
      ]
     },
     "execution_count": 66,
     "metadata": {},
     "output_type": "execute_result"
    }
   ],
   "source": [
    "x_test_nn = torch.tensor(X_test.astype(np.float32))\n",
    "y_test_nn = torch. tensor(y_test.astype(np.float32))\n",
    "with torch.no_grad():\n",
    "    y_pred_nn = model(x_test_nn)\n",
    "y_pred_nn.size()\n",
    "    "
   ]
  },
  {
   "cell_type": "code",
   "execution_count": 76,
   "id": "46b460ec",
   "metadata": {},
   "outputs": [
    {
     "data": {
      "text/plain": [
       "(10000, 10)"
      ]
     },
     "execution_count": 76,
     "metadata": {},
     "output_type": "execute_result"
    }
   ],
   "source": [
    "y_pred_np = y_pred_nn.numpy()\n",
    "y_pred_np.shape"
   ]
  },
  {
   "cell_type": "code",
   "execution_count": 78,
   "id": "c94f76ba",
   "metadata": {},
   "outputs": [],
   "source": [
    "# Now pick the highest value index for each row instead of probabilities of every class\n",
    "y_pred_np = np.argmax(y_pred_np, axis =1)\n",
    "y_pred_np = y_pred_np[:,np.newaxis]\n"
   ]
  },
  {
   "cell_type": "code",
   "execution_count": 80,
   "id": "a414f461",
   "metadata": {},
   "outputs": [
    {
     "data": {
      "text/plain": [
       "0.1"
      ]
     },
     "execution_count": 80,
     "metadata": {},
     "output_type": "execute_result"
    }
   ],
   "source": [
    "accuracy_score(y_pred_np[:10],y_test[:10])"
   ]
  },
  {
   "cell_type": "markdown",
   "id": "3b1b2aea",
   "metadata": {},
   "source": [
    "## CNN"
   ]
  },
  {
   "cell_type": "markdown",
   "id": "8e90a4d6",
   "metadata": {},
   "source": [
    "### Define Model"
   ]
  },
  {
   "cell_type": "code",
   "execution_count": 19,
   "id": "6bd54686",
   "metadata": {},
   "outputs": [],
   "source": [
    "class Net(torch.nn.Module):\n",
    "    def __init__(self):\n",
    "        super(Net,self).__init__()\n",
    "        self.conv1 = torch.nn.Conv2d(3,6,5)\n",
    "        self.conv2 = torch.nn.Conv2d(6,16,5)\n",
    "        self.pool = torch.nn.MaxPool2d(2,2)\n",
    "        self.activation = torch.nn.ReLU()\n",
    "        self.fc1 = torch.nn.Linear(16*5*5,120)\n",
    "        self.fc2 = torch.nn.Linear(120,84)\n",
    "        self.fc3 = torch.nn.Linear(84,10)\n",
    "    def forward(self,x):\n",
    "        x = self.pool(self.activation(self.conv1(x)))\n",
    "        x = self.pool(self.activation(self.conv2(x)))\n",
    "        x = torch.flatten(x,1)\n",
    "        x = self.activation(self.fc1(x))\n",
    "        x = self.activation(self.fc2(x))\n",
    "        x = self.fc3(x)\n",
    "        return x\n",
    "net = Net()"
   ]
  },
  {
   "cell_type": "code",
   "execution_count": 20,
   "id": "342a174c",
   "metadata": {},
   "outputs": [],
   "source": [
    "optim = torch.optim.SGD(net.parameters(),lr = 0.001,momentum=0.9) # optimizer for backpropogation\n",
    "loss = torch.nn.CrossEntropyLoss()"
   ]
  },
  {
   "cell_type": "code",
   "execution_count": 21,
   "id": "41e8b6e4",
   "metadata": {},
   "outputs": [],
   "source": [
    "X_train_cnn = torch.tensor(X_train.astype(np.float32).reshape(-1,3,32,32))"
   ]
  },
  {
   "cell_type": "code",
   "execution_count": null,
   "id": "6f0ea449",
   "metadata": {},
   "outputs": [],
   "source": []
  },
  {
   "cell_type": "code",
   "execution_count": 22,
   "id": "99a56a07",
   "metadata": {},
   "outputs": [
    {
     "data": {
      "text/plain": [
       "torch.Size([50000])"
      ]
     },
     "execution_count": 22,
     "metadata": {},
     "output_type": "execute_result"
    }
   ],
   "source": [
    "y_train_cnn = torch.tensor(np.squeeze(y_train.astype(np.float32),axis=1))\n",
    "y_train_cnn = y_train_cnn.long()\n",
    "\n",
    "y_train_cnn.size()"
   ]
  },
  {
   "cell_type": "code",
   "execution_count": null,
   "id": "d7dc832c",
   "metadata": {},
   "outputs": [],
   "source": []
  },
  {
   "cell_type": "code",
   "execution_count": 23,
   "id": "ca35999b",
   "metadata": {},
   "outputs": [],
   "source": [
    "train_dataset = torch.utils.data.TensorDataset(X_train_cnn,y_train_cnn)"
   ]
  },
  {
   "cell_type": "code",
   "execution_count": 24,
   "id": "8546e32b",
   "metadata": {},
   "outputs": [],
   "source": [
    "train_dataloader = torch.utils.data.DataLoader(train_dataset,batch_size= 4, shuffle = True)\n"
   ]
  },
  {
   "cell_type": "code",
   "execution_count": 25,
   "id": "b9f58675",
   "metadata": {},
   "outputs": [
    {
     "name": "stdout",
     "output_type": "stream",
     "text": [
      "Epoch1,trainloss:1.94\n",
      "Epoch2,trainloss:1.53\n",
      "Epoch3,trainloss:1.41\n",
      "Epoch4,trainloss:1.34\n",
      "Epoch5,trainloss:1.27\n"
     ]
    },
    {
     "ename": "KeyboardInterrupt",
     "evalue": "",
     "output_type": "error",
     "traceback": [
      "\u001b[0;31m---------------------------------------------------------------------------\u001b[0m",
      "\u001b[0;31mKeyboardInterrupt\u001b[0m                         Traceback (most recent call last)",
      "\u001b[1;32m/home/umar/Documents/coding/models/knnCifar.ipynb Cell 46'\u001b[0m in \u001b[0;36m<cell line: 2>\u001b[0;34m()\u001b[0m\n\u001b[1;32m     <a href='vscode-notebook-cell:/home/umar/Documents/coding/models/knnCifar.ipynb#ch0000045?line=18'>19</a>\u001b[0m net\u001b[39m.\u001b[39mzero_grad()\n\u001b[1;32m     <a href='vscode-notebook-cell:/home/umar/Documents/coding/models/knnCifar.ipynb#ch0000045?line=20'>21</a>\u001b[0m \u001b[39m#backpropogation\u001b[39;00m\n\u001b[0;32m---> <a href='vscode-notebook-cell:/home/umar/Documents/coding/models/knnCifar.ipynb#ch0000045?line=21'>22</a>\u001b[0m J\u001b[39m.\u001b[39;49mbackward()\n\u001b[1;32m     <a href='vscode-notebook-cell:/home/umar/Documents/coding/models/knnCifar.ipynb#ch0000045?line=23'>24</a>\u001b[0m \u001b[39m#step\u001b[39;00m\n\u001b[1;32m     <a href='vscode-notebook-cell:/home/umar/Documents/coding/models/knnCifar.ipynb#ch0000045?line=24'>25</a>\u001b[0m optim\u001b[39m.\u001b[39mstep()\n",
      "File \u001b[0;32m~/anaconda3/lib/python3.9/site-packages/torch/_tensor.py:363\u001b[0m, in \u001b[0;36mTensor.backward\u001b[0;34m(self, gradient, retain_graph, create_graph, inputs)\u001b[0m\n\u001b[1;32m    <a href='file:///home/umar/anaconda3/lib/python3.9/site-packages/torch/_tensor.py?line=353'>354</a>\u001b[0m \u001b[39mif\u001b[39;00m has_torch_function_unary(\u001b[39mself\u001b[39m):\n\u001b[1;32m    <a href='file:///home/umar/anaconda3/lib/python3.9/site-packages/torch/_tensor.py?line=354'>355</a>\u001b[0m     \u001b[39mreturn\u001b[39;00m handle_torch_function(\n\u001b[1;32m    <a href='file:///home/umar/anaconda3/lib/python3.9/site-packages/torch/_tensor.py?line=355'>356</a>\u001b[0m         Tensor\u001b[39m.\u001b[39mbackward,\n\u001b[1;32m    <a href='file:///home/umar/anaconda3/lib/python3.9/site-packages/torch/_tensor.py?line=356'>357</a>\u001b[0m         (\u001b[39mself\u001b[39m,),\n\u001b[0;32m   (...)\u001b[0m\n\u001b[1;32m    <a href='file:///home/umar/anaconda3/lib/python3.9/site-packages/torch/_tensor.py?line=360'>361</a>\u001b[0m         create_graph\u001b[39m=\u001b[39mcreate_graph,\n\u001b[1;32m    <a href='file:///home/umar/anaconda3/lib/python3.9/site-packages/torch/_tensor.py?line=361'>362</a>\u001b[0m         inputs\u001b[39m=\u001b[39minputs)\n\u001b[0;32m--> <a href='file:///home/umar/anaconda3/lib/python3.9/site-packages/torch/_tensor.py?line=362'>363</a>\u001b[0m torch\u001b[39m.\u001b[39;49mautograd\u001b[39m.\u001b[39;49mbackward(\u001b[39mself\u001b[39;49m, gradient, retain_graph, create_graph, inputs\u001b[39m=\u001b[39;49minputs)\n",
      "File \u001b[0;32m~/anaconda3/lib/python3.9/site-packages/torch/autograd/__init__.py:173\u001b[0m, in \u001b[0;36mbackward\u001b[0;34m(tensors, grad_tensors, retain_graph, create_graph, grad_variables, inputs)\u001b[0m\n\u001b[1;32m    <a href='file:///home/umar/anaconda3/lib/python3.9/site-packages/torch/autograd/__init__.py?line=167'>168</a>\u001b[0m     retain_graph \u001b[39m=\u001b[39m create_graph\n\u001b[1;32m    <a href='file:///home/umar/anaconda3/lib/python3.9/site-packages/torch/autograd/__init__.py?line=169'>170</a>\u001b[0m \u001b[39m# The reason we repeat same the comment below is that\u001b[39;00m\n\u001b[1;32m    <a href='file:///home/umar/anaconda3/lib/python3.9/site-packages/torch/autograd/__init__.py?line=170'>171</a>\u001b[0m \u001b[39m# some Python versions print out the first line of a multi-line function\u001b[39;00m\n\u001b[1;32m    <a href='file:///home/umar/anaconda3/lib/python3.9/site-packages/torch/autograd/__init__.py?line=171'>172</a>\u001b[0m \u001b[39m# calls in the traceback and some print out the last line\u001b[39;00m\n\u001b[0;32m--> <a href='file:///home/umar/anaconda3/lib/python3.9/site-packages/torch/autograd/__init__.py?line=172'>173</a>\u001b[0m Variable\u001b[39m.\u001b[39;49m_execution_engine\u001b[39m.\u001b[39;49mrun_backward(  \u001b[39m# Calls into the C++ engine to run the backward pass\u001b[39;49;00m\n\u001b[1;32m    <a href='file:///home/umar/anaconda3/lib/python3.9/site-packages/torch/autograd/__init__.py?line=173'>174</a>\u001b[0m     tensors, grad_tensors_, retain_graph, create_graph, inputs,\n\u001b[1;32m    <a href='file:///home/umar/anaconda3/lib/python3.9/site-packages/torch/autograd/__init__.py?line=174'>175</a>\u001b[0m     allow_unreachable\u001b[39m=\u001b[39;49m\u001b[39mTrue\u001b[39;49;00m, accumulate_grad\u001b[39m=\u001b[39;49m\u001b[39mTrue\u001b[39;49;00m)\n",
      "\u001b[0;31mKeyboardInterrupt\u001b[0m: "
     ]
    }
   ],
   "source": [
    "n_epochs = 20\n",
    "for epochs in range(n_epochs):\n",
    "    losses = []\n",
    "    for batch in train_dataloader:\n",
    "        x,y = batch\n",
    "    \n",
    "        # x.size = batch:4 x channels:3 x dim:32 x dim:32 \n",
    "#         batch = x.size(0)\n",
    "#         x = x.view(batch,-1)\n",
    "        #logits\n",
    "        l = net(x)     \n",
    "        #print(y.type())\n",
    "        #loss function\n",
    "#         y = torch.squeeze(y,1)\n",
    "#         y = y.long()\n",
    "        J = loss(l,y)\n",
    "        \n",
    "        #cleaning the gradients\n",
    "        net.zero_grad()\n",
    "        \n",
    "        #backpropogation\n",
    "        J.backward()\n",
    "        \n",
    "        #step\n",
    "        optim.step()\n",
    "        losses.append(J.item())\n",
    "    print(f'Epoch{epochs +1},trainloss:{torch.tensor(losses).mean():.2f}')\n",
    "        \n",
    "        \n",
    "        "
   ]
  },
  {
   "cell_type": "markdown",
   "id": "ede459d8",
   "metadata": {},
   "source": [
    "### save model"
   ]
  },
  {
   "cell_type": "code",
   "execution_count": 26,
   "id": "e037e098",
   "metadata": {},
   "outputs": [],
   "source": [
    "path = './cifar.pth'\n",
    "torch.save(net.state_dict(),path)"
   ]
  },
  {
   "cell_type": "code",
   "execution_count": 27,
   "id": "c5cb9e22",
   "metadata": {},
   "outputs": [],
   "source": [
    "# test data\n",
    "x_test_cnn = torch.tensor(X_test.astype(np.float32).reshape(-1,3,32,32))\n"
   ]
  },
  {
   "cell_type": "code",
   "execution_count": 28,
   "id": "db826519",
   "metadata": {},
   "outputs": [],
   "source": [
    "y_test_cnn = torch.tensor(np.squeeze(y_test,1))\n",
    "y_test_cnn = y_test_cnn.long()"
   ]
  },
  {
   "cell_type": "code",
   "execution_count": 29,
   "id": "7d7d9d21",
   "metadata": {},
   "outputs": [
    {
     "data": {
      "text/plain": [
       "tensor([3, 8, 8,  ..., 5, 1, 7])"
      ]
     },
     "execution_count": 29,
     "metadata": {},
     "output_type": "execute_result"
    }
   ],
   "source": [
    "y_test_cnn"
   ]
  },
  {
   "cell_type": "code",
   "execution_count": 30,
   "id": "b38a72e4",
   "metadata": {},
   "outputs": [],
   "source": [
    "test_dataset = torch.utils.data.TensorDataset(x_test_cnn, y_test_cnn)\n",
    "test_dataloader = torch.utils.data.DataLoader(test_dataset,batch_size=4)"
   ]
  },
  {
   "cell_type": "code",
   "execution_count": 31,
   "id": "98396b3d",
   "metadata": {},
   "outputs": [
    {
     "name": "stdout",
     "output_type": "stream",
     "text": [
      "torch.Size([4, 3, 32, 32]) torch.Size([4])\n"
     ]
    }
   ],
   "source": [
    "dataiter = iter(test_dataloader)\n",
    "img, label = dataiter.next() \n",
    "\n",
    "print(img.size(),label.size())"
   ]
  },
  {
   "cell_type": "code",
   "execution_count": 32,
   "id": "e5ed9fe0",
   "metadata": {},
   "outputs": [
    {
     "data": {
      "image/png": "[encoded data removed]",
      "text/plain": [
       "<Figure size 432x288 with 1 Axes>"
      ]
     },
     "metadata": {
      "needs_background": "light"
     },
     "output_type": "display_data"
    }
   ],
   "source": [
    "import torchvision\n",
    "import matplotlib.pyplot as plt\n",
    "def imshow(img):\n",
    "    img = img / 2 + 0.5     # unnormalize\n",
    "    npimg = img.numpy()\n",
    "    plt.imshow(np.transpose(npimg, (1, 2, 0)))\n",
    "    plt.show()\n",
    "imshow(torchvision.utils.make_grid(img))"
   ]
  },
  {
   "cell_type": "code",
   "execution_count": 33,
   "id": "d7aad7e9",
   "metadata": {},
   "outputs": [
    {
     "data": {
      "text/plain": [
       "<All keys matched successfully>"
      ]
     },
     "execution_count": 33,
     "metadata": {},
     "output_type": "execute_result"
    }
   ],
   "source": [
    "net1 = Net()\n",
    "net1.load_state_dict(torch.load('./cifar.pth'))"
   ]
  },
  {
   "cell_type": "code",
   "execution_count": 34,
   "id": "0030ff08",
   "metadata": {},
   "outputs": [],
   "source": [
    "outputs = net1(img)"
   ]
  },
  {
   "cell_type": "code",
   "execution_count": 197,
   "id": "00d6edc0",
   "metadata": {},
   "outputs": [
    {
     "data": {
      "text/plain": [
       "tensor([[-3.1833, -1.8391,  1.0833,  6.7899, -1.2626,  4.4926, -1.6311, -0.4005,\n",
       "         -5.3129, -1.9366],\n",
       "        [ 4.0656, -0.1633, -0.3419, -3.7264,  0.9972, -3.7424, -0.6255, -5.9417,\n",
       "          5.8825,  0.4736],\n",
       "        [ 1.3678, -0.4381, -0.4987,  0.0314,  1.1185, -1.3661, -1.9553, -1.1260,\n",
       "          2.9349, -0.3160],\n",
       "        [11.1917, -0.3167,  3.8810, -1.7367,  0.1558, -5.7451, -2.8671, -8.7746,\n",
       "          5.8866, -0.1777]], grad_fn=<AddmmBackward0>)"
      ]
     },
     "execution_count": 197,
     "metadata": {},
     "output_type": "execute_result"
    }
   ],
   "source": [
    "outputs"
   ]
  },
  {
   "cell_type": "code",
   "execution_count": 35,
   "id": "01722ec4",
   "metadata": {},
   "outputs": [
    {
     "name": "stdout",
     "output_type": "stream",
     "text": [
      "tensor([3, 9, 1, 0])\n"
     ]
    }
   ],
   "source": [
    "values, prediction = torch.max(outputs,1) # max from each row\n",
    "print(prediction)"
   ]
  },
  {
   "cell_type": "code",
   "execution_count": 36,
   "id": "175c5cc5",
   "metadata": {},
   "outputs": [
    {
     "name": "stdout",
     "output_type": "stream",
     "text": [
      "Predicted:  cat   truck car   plane\n",
      "GroundTruth:  cat   ship  ship  plane\n"
     ]
    }
   ],
   "source": [
    "classes = ('plane', 'car', 'bird', 'cat',\n",
    "           'deer', 'dog', 'frog', 'horse', 'ship', 'truck')\n",
    "print('Predicted: ', ' '.join(f'{classes[prediction[j]]:5s}'\n",
    "                              for j in range(4)))\n",
    "print('GroundTruth: ', ' '.join(f'{classes[label[j]]:5s}' for j in range(4)))"
   ]
  },
  {
   "cell_type": "code",
   "execution_count": 37,
   "id": "f5902a34",
   "metadata": {},
   "outputs": [
    {
     "name": "stdout",
     "output_type": "stream",
     "text": [
      "The accuracy of the model is: 54\n"
     ]
    }
   ],
   "source": [
    "correct = 0\n",
    "total = 0\n",
    "with torch.no_grad():\n",
    "    for data in test_dataloader:\n",
    "        img, labels = data\n",
    "        l = net1(img)\n",
    "        \n",
    "        #class with heighest energy\n",
    "        _,predictions = torch.max(l,1)\n",
    "        total +=labels.size(0)\n",
    "        correct +=(predictions == labels).sum().item()\n",
    "print(f'The accuracy of the model is: {100 * correct//total}')  "
   ]
  },
  {
   "cell_type": "code",
   "execution_count": 38,
   "id": "f163376f",
   "metadata": {},
   "outputs": [
    {
     "name": "stdout",
     "output_type": "stream",
     "text": [
      "{'plane': 706, 'car': 662, 'bird': 393, 'cat': 373, 'deer': 552, 'dog': 469, 'frog': 564, 'horse': 528, 'ship': 524, 'truck': 635}\n",
      "{'plane': 1000, 'car': 1000, 'bird': 1000, 'cat': 1000, 'deer': 1000, 'dog': 1000, 'frog': 1000, 'horse': 1000, 'ship': 1000, 'truck': 1000}\n",
      "Accuracy for class: plane is 70.6 %\n",
      "Accuracy for class: car   is 66.2 %\n",
      "Accuracy for class: bird  is 39.3 %\n",
      "Accuracy for class: cat   is 37.3 %\n",
      "Accuracy for class: deer  is 55.2 %\n",
      "Accuracy for class: dog   is 46.9 %\n",
      "Accuracy for class: frog  is 56.4 %\n",
      "Accuracy for class: horse is 52.8 %\n",
      "Accuracy for class: ship  is 52.4 %\n",
      "Accuracy for class: truck is 63.5 %\n"
     ]
    }
   ],
   "source": [
    "correct_pred = {classname:0 for classname in classes}\n",
    "total_per_class = {truth:0 for truth in classes}\n",
    "i=1\n",
    "with torch.no_grad():\n",
    "    for data in test_dataloader:\n",
    "        x,y = data\n",
    "        l = net1(x)\n",
    "        _,prediction = torch.max(l,1)\n",
    "        if i == 1:\n",
    "            i = i+1\n",
    "        for label, pred in zip(y,prediction):\n",
    "            if label == pred:\n",
    "                correct_pred[classes[label]] +=1\n",
    "              \n",
    "            total_per_class[classes[label]] +=1\n",
    "print(correct_pred)\n",
    "print(total_per_class)\n",
    "# print accuracy for each class\n",
    "for classname, correct_count in correct_pred.items():\n",
    "    accuracy = 100 * float(correct_count) / total_per_class[classname]\n",
    "    print(f'Accuracy for class: {classname:5s} is {accuracy:.1f} %')"
   ]
  },
  {
   "cell_type": "code",
   "execution_count": null,
   "id": "d1347e13",
   "metadata": {},
   "outputs": [],
   "source": []
  }
 ],
 "metadata": {
  "interpreter": {
   "hash": "c1beca4d13f83ca89c66bd45495ae156699bc5ff6f8c7e501c023379b2af8736"
  },
  "kernelspec": {
   "display_name": "Python 3.9.12 ('base')",
   "language": "python",
   "name": "python3"
  },
  "language_info": {
   "codemirror_mode": {
    "name": "ipython",
    "version": 3
   },
   "file_extension": ".py",
   "mimetype": "text/x-python",
   "name": "python",
   "nbconvert_exporter": "python",
   "pygments_lexer": "ipython3",
   "version": "3.9.12"
  }
 },
 "nbformat": 4,
 "nbformat_minor": 5
}
